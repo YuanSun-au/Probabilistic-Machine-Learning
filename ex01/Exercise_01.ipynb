{
 "cells": [
  {
   "cell_type": "markdown",
   "metadata": {},
   "source": [
    "# Practical task \n",
    "You will model the famous [Keeling curve](https://www.esrl.noaa.gov/gmd/ccgg/trends/) using contemporary deep learning frameworks. This notebook will download the data and read it in as numpy arrays and provide example code in [pytorch](https://pytorch.org/). You are welcome to use other frameworks and change the dataset to better fit your model arhitecture. "
   ]
  },
  {
   "cell_type": "code",
   "execution_count": null,
   "metadata": {},
   "outputs": [],
   "source": [
    "import numpy as np\n",
    "import matplotlib.pyplot as plt\n",
    "import os \n",
    "%matplotlib inline\n",
    "%matplotlib notebook\n"
   ]
  },
  {
   "cell_type": "markdown",
   "metadata": {},
   "source": [
    "You can download the dataset from: ftp://aftp.cmdl.noaa.gov/products/trends/co2/co2_mm_mlo.txt\n",
    "\n",
    "or run the cell below which will check if the dataset is present in working directory and download it there if not."
   ]
  },
  {
   "cell_type": "code",
   "execution_count": null,
   "metadata": {},
   "outputs": [],
   "source": [
    "url=\"ftp://aftp.cmdl.noaa.gov/products/trends/co2/co2_mm_mlo.txt\"\n",
    "filename=os.path.split(url)[-1]\n",
    "\n",
    "if not os.path.exists(filename):    \n",
    "    from urllib import request\n",
    "    print('Downloading data from:\\n'+url)\n",
    "    request.urlretrieve(url,filename)\n"
   ]
  },
  {
   "cell_type": "markdown",
   "metadata": {},
   "source": [
    "Read in the data as `numpy` array"
   ]
  },
  {
   "cell_type": "code",
   "execution_count": null,
   "metadata": {},
   "outputs": [],
   "source": [
    "data=np.genfromtxt(filename,comments='#',missing_values='-99.99',usecols=[0,1,3])\n",
    "\n",
    "Xfull=data[:,0]+(data[:,1]-1)/12.0\n",
    "Yfull=data[:,-1]\n",
    "\n",
    "missing_values=Yfull==-99.99\n",
    "\n",
    "Xfull=Xfull[~missing_values].reshape(-1,1)\n",
    "Yfull=Yfull[~missing_values].reshape(-1,1)\n",
    "\n",
    "data=[]\n",
    "\n",
    "\n",
    "# Use last 3 years as a test set \n",
    "test_length=3*12\n",
    "\n",
    "Xtrain_np = Xfull[:-test_length]\n",
    "Ytrain_np = Yfull[:-test_length]\n",
    "\n",
    "Xtest_np = Xfull[-test_length:]\n",
    "Ytest_np = Yfull[-test_length:]\n",
    "\n",
    "# Data for prediction\n",
    "Xpred_np = Xtrain_np[-1]+np.arange(1,40*12).reshape(-1,1)/12\n"
   ]
  },
  {
   "cell_type": "markdown",
   "metadata": {},
   "source": [
    "Plot the train and test data"
   ]
  },
  {
   "cell_type": "code",
   "execution_count": null,
   "metadata": {},
   "outputs": [],
   "source": [
    "plt.scatter(Xtrain_np,Ytrain_np,marker='.',linewidths=0.05)\n",
    "plt.scatter(Xtest_np,Ytest_np,marker='.',linewidths=0.05)\n",
    "plt.title(r'$CO_2$ concentration')\n",
    "plt.xlabel('year')\n",
    "plt.ylabel(r'$CO_2$ [ppm]')\n",
    "plt.show()"
   ]
  },
  {
   "cell_type": "markdown",
   "metadata": {},
   "source": [
    "# Preprocess the data\n",
    "You are allowed to change the preprocessing and structure of the dataset to better suit your model architecture.\n",
    "\n",
    "Below is a simple example."
   ]
  },
  {
   "cell_type": "code",
   "execution_count": null,
   "metadata": {},
   "outputs": [],
   "source": [
    "xshift=np.mean(Xtrain_np)\n",
    "yshift=np.mean(Ytrain_np)\n",
    "\n",
    "xscale=np.std(Xtrain_np)\n",
    "yscale=np.std(Ytrain_np)\n",
    "\n",
    "\n",
    "Xtrain_np-=xshift\n",
    "Xtrain_np/=xscale\n",
    "Ytrain_np-=yshift\n",
    "Ytrain_np/=yscale\n",
    "\n",
    "Xtest_np-=xshift\n",
    "Xtest_np/=xscale\n",
    "Ytest_np-=yshift\n",
    "Ytest_np/=yscale\n",
    "\n",
    "\n",
    "Xpred_np-=xshift\n",
    "Xpred_np/=xscale"
   ]
  },
  {
   "cell_type": "markdown",
   "metadata": {},
   "source": [
    "# Task:\n",
    "Use a deep learning framwework of your choice to build and train a model to predict the CO$_2$ concentration up until year 2060.\n",
    "Below is a Pytorch example with 2 ways to construct a model that you can use as a starting point. \n",
    "\n",
    "See the [nn module](https://pytorch.org/docs/stable/nn.html#) of Pytorch for inspiration on models and modules."
   ]
  },
  {
   "cell_type": "code",
   "execution_count": null,
   "metadata": {},
   "outputs": [],
   "source": [
    "import torch\n",
    "\n",
    "if torch.cuda.is_available():  \n",
    "    device = torch.device(\"cuda:0\") \n",
    "else:  \n",
    "    device = torch.device(\"cpu\")\n",
    "print(device)\n",
    "# Load the data into pytorch tensors for training\n",
    "Xtrain=torch.FloatTensor(Xtrain_np).to(device)\n",
    "Ytrain=torch.FloatTensor(Ytrain_np).to(device)\n",
    "\n",
    "Xtest=torch.FloatTensor(Xtest_np).to(device)\n",
    "Ytest=torch.FloatTensor(Ytest_np).to(device)\n"
   ]
  },
  {
   "cell_type": "code",
   "execution_count": null,
   "metadata": {},
   "outputs": [],
   "source": [
    "import torch.nn as nn\n",
    "\n",
    "\n",
    "\n",
    "#############\n",
    "# 1st way to define model\n",
    "#############\n",
    "class NN(nn.Module):\n",
    "    def __init__(self):\n",
    "        super(NN, self).__init__()\n",
    "        self.linear1=nn.Linear(1,100)\n",
    "        self.linear2=nn.Linear(100,1)\n",
    "    \n",
    "    def forward(self,x):\n",
    "        x=nn.ReLU(self.linear1(x))\n",
    "        x=self.linear2(x)\n",
    "        return x\n",
    "                   \n",
    "model = NN\n",
    "\n",
    "\n",
    "#############\n",
    "# 2nd way to define model\n",
    "#############\n",
    "model = torch.nn.Sequential(\n",
    "    nn.Linear(1,100),\n",
    "    nn.ReLU(),\n",
    "    nn.Linear(100,1)\n",
    ")\n",
    "\n",
    "\n",
    "model.to(device)\n",
    "\n",
    "criterion=nn.MSELoss()\n",
    "\n",
    "# Change optimizer and hyperparameters\n",
    "optimizer=torch.optim.SGD(model.parameters(),lr=1e-3,momentum=0.9,weight_decay=0)\n",
    "\n",
    "\n",
    "NUM_EPOCHS=500\n",
    "\n",
    "for i in range(NUM_EPOCHS):\n",
    "    optimizer.zero_grad()\n",
    "    pred=model(Xtrain)\n",
    "    loss=criterion(pred,Ytrain)\n",
    "    loss.backward()\n",
    "    optimizer.step()\n",
    "    if i%100==0:\n",
    "        with torch.no_grad():\n",
    "            test_loss=criterion(model(Xtest),Ytest)\n",
    "        print(f'{i}: {loss.item()}   {test_loss.item()}')\n",
    "\n",
    "\n"
   ]
  },
  {
   "cell_type": "markdown",
   "metadata": {},
   "source": [
    "Plot the prediction and extrapolation for analysis"
   ]
  },
  {
   "cell_type": "code",
   "execution_count": null,
   "metadata": {},
   "outputs": [],
   "source": [
    "Xpred=torch.FloatTensor(Xpred_np).to(device)\n",
    "\n",
    "with torch.no_grad():\n",
    "    pred=model(Xtrain)\n",
    "    predf=model(Xpred)\n",
    "    \n",
    "plt.plot(Xtrain.cpu().numpy()*xscale+xshift,pred.cpu().numpy()*yscale+yshift,color='C0',label='Prediction')\n",
    "plt.plot(Xtrain_np*xscale+xshift,Ytrain_np*yscale+yshift,'x',color='C0',alpha=0.2,label='Train data')\n",
    "plt.plot(Xtest_np*xscale+xshift,Ytest_np*yscale+yshift,'o',color='C1',alpha=0.2,label='Test data')\n",
    "plt.plot(Xpred.cpu().numpy()*xscale+xshift,predf.cpu().numpy()*yscale+yshift,color='C3',label='Extrapolation')\n",
    "\n",
    "plt.legend()\n",
    "plt.xlabel(r'Year')\n",
    "plt.ylabel(r'CO$_2$ [ppm]')\n",
    "plt.show()"
   ]
  },
  {
   "cell_type": "markdown",
   "metadata": {},
   "source": [
    "# Question:\n",
    "**How is your model performing, is the behaviour expected?** \n",
    "\n",
    "*answer:*\n",
    "\n",
    "\n",
    "**Do you trust the extrapolation why/why not?** \n",
    "\n",
    "*answer:*\n",
    "\n",
    "**How would you change the architecture or dataset to improve the extrapolation?**\n",
    "\n",
    "*answer:*\n"
   ]
  }
 ],
 "metadata": {
  "kernelspec": {
   "display_name": "Python 3",
   "language": "python",
   "name": "python3"
  },
  "language_info": {
   "codemirror_mode": {
    "name": "ipython",
    "version": 3
   },
   "file_extension": ".py",
   "mimetype": "text/x-python",
   "name": "python",
   "nbconvert_exporter": "python",
   "pygments_lexer": "ipython3",
   "version": "3.7.5"
  }
 },
 "nbformat": 4,
 "nbformat_minor": 4
}
